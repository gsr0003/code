{
 "cells": [
  {
   "cell_type": "code",
   "execution_count": 13,
   "id": "32cd136c-956f-46c7-b88d-cbbc6ffc8033",
   "metadata": {},
   "outputs": [],
   "source": [
    "import tarfile\n",
    "def createTarFile(file_list,dst_name):\n",
    "    with tarfile.open(dst_name,'w') as tar:\n",
    "        for file in file_list:\n",
    "            tar.add(file,arcname=file.split('/')[-1])\n",
    "\n",
    "if __name__=='__main__':\n",
    "    createTarFile(['1','backup','README.txt'],'ex.tar')"
   ]
  },
  {
   "cell_type": "code",
   "execution_count": null,
   "id": "6f4aff02-8027-4d64-83bd-86c3ee83a853",
   "metadata": {},
   "outputs": [],
   "source": []
  }
 ],
 "metadata": {
  "kernelspec": {
   "display_name": "Python 3 (ipykernel)",
   "language": "python",
   "name": "python3"
  },
  "language_info": {
   "codemirror_mode": {
    "name": "ipython",
    "version": 3
   },
   "file_extension": ".py",
   "mimetype": "text/x-python",
   "name": "python",
   "nbconvert_exporter": "python",
   "pygments_lexer": "ipython3",
   "version": "3.8.20"
  }
 },
 "nbformat": 4,
 "nbformat_minor": 5
}
