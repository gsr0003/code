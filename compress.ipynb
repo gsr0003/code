{
 "cells": [
  {
   "cell_type": "code",
   "execution_count": 24,
   "id": "f1ab7131-a15b-4b73-8c54-7439a2c5de84",
   "metadata": {},
   "outputs": [],
   "source": [
    "import zipfile\n",
    "import os\n",
    "import tarfile\n",
    "from rarfile import RarFile\n",
    "from pathlib import Path\n",
    "#文件压缩\n",
    "def packZipFile(file_path,file_list,zip_name):\n",
    "    with zipfile.ZipFile(file_path+zip_name, 'w', zipfile.ZIP_DEFLATED) as zipf:\n",
    "        for file in file_list:\n",
    "            File=file_path+file\n",
    "            zipf.write(File,file)\n",
    "            if Path(File).is_dir():\n",
    "                for root, dirs, files in os.walk(File):\n",
    "                    Root=root[len(file_path):]\n",
    "                    for Dir in dirs:\n",
    "                        zipf.write(os.path.join(root,Dir),os.path.join(Root,Dir))\n",
    "                    for FIle in files:\n",
    "                        zipf.write(os.path.join(root,FIle),os.path.join(Root,FIle))\n",
    "                \n",
    "    \n",
    "'''def compressRarFile(file_list,rar_name):\n",
    "    with RarFile(rar_name,'w') as rar:\n",
    "        for file in file_list:\n",
    "            rar.write(file)\n",
    "            if Path(file).is_dir():\n",
    "                for root, dirs, files in os.walk(file):\n",
    "                    for Dir in dirs:\n",
    "                        file_path=os.path.join(root,Dir)\n",
    "                        rar.write(file_path,file_path)\n",
    "                    for File in files:\n",
    "                        file_path = os.path.join(root, File)\n",
    "                        rar.write(file_path,file_path)'''\n",
    "    \n",
    "def packTarFile(file_path,file_list,tgz_name):\n",
    "    with tarfile.open(file_path+tgz_name,'w:gz') as tar:\n",
    "        for file in file_list:\n",
    "            tar.add(file_path+file,arcname=os.path.basename(file))#,arcname=file.split('/')[-1])\n",
    "\n",
    "if __name__=='__main__':\n",
    "    packTarFile('..\\\\',['新建文件夹'],'新建文件夹.tgz')\n",
    "    "
   ]
  },
  {
   "cell_type": "code",
   "execution_count": null,
   "id": "8c9a3a21-48ce-4b99-a5de-207f5ee42451",
   "metadata": {},
   "outputs": [],
   "source": []
  },
  {
   "cell_type": "code",
   "execution_count": null,
   "id": "25b5dc96-c210-45a8-8be4-003b34974408",
   "metadata": {},
   "outputs": [],
   "source": []
  }
 ],
 "metadata": {
  "kernelspec": {
   "display_name": "Python 3 (ipykernel)",
   "language": "python",
   "name": "python3"
  },
  "language_info": {
   "codemirror_mode": {
    "name": "ipython",
    "version": 3
   },
   "file_extension": ".py",
   "mimetype": "text/x-python",
   "name": "python",
   "nbconvert_exporter": "python",
   "pygments_lexer": "ipython3",
   "version": "3.8.20"
  }
 },
 "nbformat": 4,
 "nbformat_minor": 5
}
