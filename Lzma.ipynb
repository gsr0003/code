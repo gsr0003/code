{
 "cells": [
  {
   "cell_type": "code",
   "execution_count": 21,
   "id": "a9392595-5349-4b77-9b11-dbbb63448bdc",
   "metadata": {},
   "outputs": [],
   "source": [
    "import lzma\n",
    "def lzmaCompress(source_path,source_name):\n",
    "    with open(source_path+source_name,'rb') as fp_in:\n",
    "        with lzma.open(f'{source_path}lzma_{source_name}','wb') as fp_out:\n",
    "            fp_out.write(fp_in.read())\n",
    "\n",
    "def lzmaDecompress(source_path,source_name):\n",
    "    with lzma.open(source_path+source_name,'rb') as fp_in:\n",
    "        with open(source_path+source_name[5:],'wb') as fp_out:\n",
    "            fp_out.write(fp_in.read())\n",
    "    \n",
    "if __name__=='__main__':\n",
    "    #lzmaCompress('新建文件夹.zip')\n",
    "    lzmaDecompress('新建文件夹.zip.xz')"
   ]
  },
  {
   "cell_type": "code",
   "execution_count": null,
   "id": "bbf84f35-7abf-43b0-97fa-f41c883a2ea5",
   "metadata": {},
   "outputs": [],
   "source": []
  }
 ],
 "metadata": {
  "kernelspec": {
   "display_name": "Python 3 (ipykernel)",
   "language": "python",
   "name": "python3"
  },
  "language_info": {
   "codemirror_mode": {
    "name": "ipython",
    "version": 3
   },
   "file_extension": ".py",
   "mimetype": "text/x-python",
   "name": "python",
   "nbconvert_exporter": "python",
   "pygments_lexer": "ipython3",
   "version": "3.8.20"
  }
 },
 "nbformat": 4,
 "nbformat_minor": 5
}
