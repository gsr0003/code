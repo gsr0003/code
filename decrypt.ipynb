{
 "cells": [
  {
   "cell_type": "code",
   "execution_count": 10,
   "id": "44682fd1-75a9-4b47-bb5c-c81f25393470",
   "metadata": {},
   "outputs": [
    {
     "data": {
      "text/plain": [
       "\"def decrypt(file_path,password):\\n    fernet=Fernet(password)\\n    with open(file_path,'rb') as enc_file:\\n        encrypted=enc_file.read()\\n    decrypted=fernet.decrypt(encrypted)\\n    with open(file_path,'wb') as dec_file:\\n        dec_file.write(decrypted)\\n\\ndef rsaDec(file_path,private_key_file,password):\\n    with open(file_path,'rb') as file:\\n        encypted=file.read()\\n    with open(private_key_file,'rb') as key_file:\\n        private_key=rsa.PrivateKey.load_pkcs1(key_file.read(),password)\\n    file_content=rsa.decrypt(encrypted,private_key)\\n    with open(file_path,'wb') as file:\\n        file.write(file_content)\""
      ]
     },
     "execution_count": 10,
     "metadata": {},
     "output_type": "execute_result"
    }
   ],
   "source": [
    "import pyDes\n",
    "from Crypto.Cipher import AES\n",
    "from Crypto.Util.Padding import pad\n",
    "\n",
    "def decrypt3DES(file_path,key=b'0123456789ABCDEF',iv=b'abcdefgh'):\n",
    "    des=pyDes.triple_des(key,pyDes.CBC,iv,pad=None,padmode=pyDes.PAD_PKCS5)\n",
    "    with open(file_path,'rb') as decry_in:\n",
    "        with open(file_path[5:],'wb') as decry_out:\n",
    "            decry_out.write(des.decrypt(decry_in.read()))\n",
    "\n",
    "def decryptAES(file_path,key=b'0123456789ABCDEF',iv=b'abcdefghijklmnop'):\n",
    "    aes=AES.new(key,AES.MODE_CBC,iv)\n",
    "    with open(file_path,'rb') as decry_in:\n",
    "        with open(file_path[4:],'wb') as decry_out:\n",
    "            decry_out.write(aes.decrypt(decry_in.read()))\n",
    "            \n",
    "if __name__=='__main__':\n",
    "    decryptAES('AES_新建文件夹.zip')\n",
    "\n",
    "\n",
    "'''def decrypt(file_path,password):\n",
    "    fernet=Fernet(password)\n",
    "    with open(file_path,'rb') as enc_file:\n",
    "        encrypted=enc_file.read()\n",
    "    decrypted=fernet.decrypt(encrypted)\n",
    "    with open(file_path,'wb') as dec_file:\n",
    "        dec_file.write(decrypted)\n",
    "\n",
    "def rsaDec(file_path,private_key_file,password):\n",
    "    with open(file_path,'rb') as file:\n",
    "        encypted=file.read()\n",
    "    with open(private_key_file,'rb') as key_file:\n",
    "        private_key=rsa.PrivateKey.load_pkcs1(key_file.read(),password)\n",
    "    file_content=rsa.decrypt(encrypted,private_key)\n",
    "    with open(file_path,'wb') as file:\n",
    "        file.write(file_content)'''"
   ]
  },
  {
   "cell_type": "code",
   "execution_count": null,
   "id": "cf1af1b0-aa2f-41ff-b9f2-5ccbfa295a16",
   "metadata": {},
   "outputs": [],
   "source": []
  },
  {
   "cell_type": "code",
   "execution_count": null,
   "id": "936d7899-36a8-4970-aa63-f0e3037a3dac",
   "metadata": {},
   "outputs": [],
   "source": []
  }
 ],
 "metadata": {
  "kernelspec": {
   "display_name": "Python 3 (ipykernel)",
   "language": "python",
   "name": "python3"
  },
  "language_info": {
   "codemirror_mode": {
    "name": "ipython",
    "version": 3
   },
   "file_extension": ".py",
   "mimetype": "text/x-python",
   "name": "python",
   "nbconvert_exporter": "python",
   "pygments_lexer": "ipython3",
   "version": "3.8.20"
  }
 },
 "nbformat": 4,
 "nbformat_minor": 5
}
