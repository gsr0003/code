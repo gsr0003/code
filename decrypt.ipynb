{
 "cells": [
  {
   "cell_type": "code",
   "execution_count": 13,
   "id": "44682fd1-75a9-4b47-bb5c-c81f25393470",
   "metadata": {},
   "outputs": [
    {
     "name": "stdout",
     "output_type": "stream",
     "text": [
      "2025-09-23 16:29:35.749081\n",
      "23162935\n"
     ]
    },
    {
     "ename": "NameError",
     "evalue": "name 'key' is not defined",
     "output_type": "error",
     "traceback": [
      "\u001b[1;31m---------------------------------------------------------------------------\u001b[0m",
      "\u001b[1;31mNameError\u001b[0m                                 Traceback (most recent call last)",
      "Cell \u001b[1;32mIn[13], line 29\u001b[0m\n\u001b[0;32m     26\u001b[0m             decry_out\u001b[38;5;241m.\u001b[39mwrite(aes\u001b[38;5;241m.\u001b[39mdecrypt(decry_in\u001b[38;5;241m.\u001b[39mread()))\n\u001b[0;32m     28\u001b[0m \u001b[38;5;28;01mif\u001b[39;00m \u001b[38;5;18m__name__\u001b[39m\u001b[38;5;241m==\u001b[39m\u001b[38;5;124m'\u001b[39m\u001b[38;5;124m__main__\u001b[39m\u001b[38;5;124m'\u001b[39m:\n\u001b[1;32m---> 29\u001b[0m     \u001b[43mdecrypt3DES\u001b[49m\u001b[43m(\u001b[49m\u001b[38;5;124;43m'\u001b[39;49m\u001b[38;5;124;43mhuffman.ipynb\u001b[39;49m\u001b[38;5;124;43m'\u001b[39;49m\u001b[43m)\u001b[49m\n\u001b[0;32m     32\u001b[0m \u001b[38;5;124;03m'''def decrypt(file_path,password):\u001b[39;00m\n\u001b[0;32m     33\u001b[0m \u001b[38;5;124;03m    fernet=Fernet(password)\u001b[39;00m\n\u001b[0;32m     34\u001b[0m \u001b[38;5;124;03m    with open(file_path,'rb') as enc_file:\u001b[39;00m\n\u001b[1;32m   (...)\u001b[0m\n\u001b[0;32m     46\u001b[0m \u001b[38;5;124;03m    with open(file_path,'wb') as file:\u001b[39;00m\n\u001b[0;32m     47\u001b[0m \u001b[38;5;124;03m        file.write(file_content)'''\u001b[39;00m\n",
      "Cell \u001b[1;32mIn[13], line 15\u001b[0m, in \u001b[0;36mdecrypt3DES\u001b[1;34m(file_path)\u001b[0m\n\u001b[0;32m     13\u001b[0m iv\u001b[38;5;241m=\u001b[39mdt\u001b[38;5;241m.\u001b[39mstrftime(\u001b[38;5;124m'\u001b[39m\u001b[38;5;132;01m%d\u001b[39;00m\u001b[38;5;124m%\u001b[39m\u001b[38;5;124mH\u001b[39m\u001b[38;5;124m%\u001b[39m\u001b[38;5;124mM\u001b[39m\u001b[38;5;124m%\u001b[39m\u001b[38;5;124mS\u001b[39m\u001b[38;5;124m'\u001b[39m)\n\u001b[0;32m     14\u001b[0m \u001b[38;5;28mprint\u001b[39m(iv)\n\u001b[1;32m---> 15\u001b[0m des\u001b[38;5;241m=\u001b[39mpyDes\u001b[38;5;241m.\u001b[39mtriple_des(\u001b[43mkey\u001b[49m,pyDes\u001b[38;5;241m.\u001b[39mCBC,iv,pad\u001b[38;5;241m=\u001b[39m\u001b[38;5;28;01mNone\u001b[39;00m,padmode\u001b[38;5;241m=\u001b[39mpyDes\u001b[38;5;241m.\u001b[39mPAD_PKCS5)\n\u001b[0;32m     16\u001b[0m \u001b[38;5;28;01mwith\u001b[39;00m \u001b[38;5;28mopen\u001b[39m(file_path,\u001b[38;5;124m'\u001b[39m\u001b[38;5;124mrb\u001b[39m\u001b[38;5;124m'\u001b[39m) \u001b[38;5;28;01mas\u001b[39;00m decry_in:\n\u001b[0;32m     17\u001b[0m     \u001b[38;5;28;01mwith\u001b[39;00m \u001b[38;5;28mopen\u001b[39m(file_path[\u001b[38;5;241m5\u001b[39m:],\u001b[38;5;124m'\u001b[39m\u001b[38;5;124mwb\u001b[39m\u001b[38;5;124m'\u001b[39m) \u001b[38;5;28;01mas\u001b[39;00m decry_out:\n",
      "\u001b[1;31mNameError\u001b[0m: name 'key' is not defined"
     ]
    }
   ],
   "source": [
    "import os\n",
    "import time\n",
    "import pyDes\n",
    "from datetime import datetime\n",
    "from Crypto.Cipher import AES\n",
    "from Crypto.Util.Padding import pad\n",
    "\n",
    "def decrypt3DES(file_path):\n",
    "    key=file_path[5:21]\n",
    "    timestamp=os.path.getctime(file_path)\n",
    "    dt=datetime.fromtimestamp(timestamp)\n",
    "    iv=dt.strftime('%d%H%M%S')\n",
    "    des=pyDes.triple_des(key,pyDes.CBC,iv,pad=None,padmode=pyDes.PAD_PKCS5)\n",
    "    with open(file_path,'rb') as decry_in:\n",
    "        with open(file_path[22:],'wb') as decry_out:\n",
    "            decry_out.write(des.decrypt(decry_in.read()))\n",
    "\n",
    "def decryptAES(file_path):\n",
    "    key=file_path[4:20]\n",
    "    timestamp=os.path.getctime(file_path)\n",
    "    dt=datetime.fromtimestamp(timestamp)\n",
    "    iv=f'{key[4:12]}{dt.strftime('%d%H%M%S')}'\n",
    "    aes=AES.new(key,AES.MODE_CBC,iv)\n",
    "    with open(file_path,'rb') as decry_in:\n",
    "        with open(file_path[21:],'wb') as decry_out:\n",
    "            decry_out.write(aes.decrypt(decry_in.read()))\n",
    "            \n",
    "if __name__=='__main__':\n",
    "    decrypt3DES('huffman.ipynb')\n",
    "\n",
    "\n",
    "'''def decrypt(file_path,password):\n",
    "    fernet=Fernet(password)\n",
    "    with open(file_path,'rb') as enc_file:\n",
    "        encrypted=enc_file.read()\n",
    "    decrypted=fernet.decrypt(encrypted)\n",
    "    with open(file_path,'wb') as dec_file:\n",
    "        dec_file.write(decrypted)\n",
    "\n",
    "def rsaDec(file_path,private_key_file,password):\n",
    "    with open(file_path,'rb') as file:\n",
    "        encypted=file.read()\n",
    "    with open(private_key_file,'rb') as key_file:\n",
    "        private_key=rsa.PrivateKey.load_pkcs1(key_file.read(),password)\n",
    "    file_content=rsa.decrypt(encrypted,private_key)\n",
    "    with open(file_path,'wb') as file:\n",
    "        file.write(file_content)'''"
   ]
  },
  {
   "cell_type": "code",
   "execution_count": null,
   "id": "cf1af1b0-aa2f-41ff-b9f2-5ccbfa295a16",
   "metadata": {},
   "outputs": [],
   "source": []
  },
  {
   "cell_type": "code",
   "execution_count": null,
   "id": "936d7899-36a8-4970-aa63-f0e3037a3dac",
   "metadata": {},
   "outputs": [],
   "source": []
  }
 ],
 "metadata": {
  "kernelspec": {
   "display_name": "Python 3 (ipykernel)",
   "language": "python",
   "name": "python3"
  },
  "language_info": {
   "codemirror_mode": {
    "name": "ipython",
    "version": 3
   },
   "file_extension": ".py",
   "mimetype": "text/x-python",
   "name": "python",
   "nbconvert_exporter": "python",
   "pygments_lexer": "ipython3",
   "version": "3.8.20"
  }
 },
 "nbformat": 4,
 "nbformat_minor": 5
}
