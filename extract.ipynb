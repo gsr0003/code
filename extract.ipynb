{
 "cells": [
  {
   "cell_type": "code",
   "execution_count": 13,
   "id": "4539fb4b-cc6e-4c44-8205-950b15b2171a",
   "metadata": {},
   "outputs": [
    {
     "data": {
      "text/plain": [
       "'def extractTarFile(file):\\n    file_name=file[:-4]'"
      ]
     },
     "execution_count": 13,
     "metadata": {},
     "output_type": "execute_result"
    }
   ],
   "source": [
    "import os\n",
    "import zipfile\n",
    "import rarfile\n",
    "import tarfile\n",
    "#解压zip文件\n",
    "def unpackZipFile(path,file):\n",
    "    #for file in file_list:\n",
    "    #file_name=file[:-4]\n",
    "    zipf=zipfile.ZipFile(path+file)\n",
    "    zipf.extractall(path)\n",
    "    zipf.close()\n",
    "\n",
    "'''def extractRarFile(file):\n",
    "    #for file in file_list:\n",
    "    #file_name=file[:-4]\n",
    "    rar=rarfile.RarFile(file)\n",
    "    rar.extractall()\n",
    "    rar.close()'''\n",
    "\n",
    "def unpackTarFile(path,file):\n",
    "    with tarfile.open(path+file,'r:gz') as tar:\n",
    "        tar.extractall(path)\n",
    "\n",
    "if __name__=='__main__':\n",
    "    unpackZipFile('..\\\\','新建文件夹.zip')\n",
    "    unpackTarFile('..\\\\','1.tgz')\n",
    "    \n",
    "'''def extractTarFile(file):\n",
    "    file_name=file[:-4]'''"
   ]
  },
  {
   "cell_type": "code",
   "execution_count": null,
   "id": "891263e4-2b23-4ed1-9115-a5b0c572913b",
   "metadata": {},
   "outputs": [],
   "source": []
  }
 ],
 "metadata": {
  "kernelspec": {
   "display_name": "Python 3 (ipykernel)",
   "language": "python",
   "name": "python3"
  },
  "language_info": {
   "codemirror_mode": {
    "name": "ipython",
    "version": 3
   },
   "file_extension": ".py",
   "mimetype": "text/x-python",
   "name": "python",
   "nbconvert_exporter": "python",
   "pygments_lexer": "ipython3",
   "version": "3.8.20"
  }
 },
 "nbformat": 4,
 "nbformat_minor": 5
}
