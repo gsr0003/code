{
 "cells": [
  {
   "cell_type": "code",
   "execution_count": 5,
   "id": "ebc30067-affc-4784-9cc8-ecbc554c2962",
   "metadata": {},
   "outputs": [
    {
     "data": {
      "text/plain": [
       "['C:', 'a', 'b', 'c', '']"
      ]
     },
     "metadata": {},
     "output_type": "display_data"
    },
    {
     "data": {
      "text/plain": [
       "'c'"
      ]
     },
     "metadata": {},
     "output_type": "display_data"
    }
   ],
   "source": [
    "x='C:\\\\a\\\\b\\\\c\\\\'\n",
    "display(x.split('\\\\'))\n",
    "display(x[-2])"
   ]
  },
  {
   "cell_type": "code",
   "execution_count": null,
   "id": "174136f6-a97d-45b7-9a95-35a8bb9026ea",
   "metadata": {},
   "outputs": [],
   "source": []
  }
 ],
 "metadata": {
  "kernelspec": {
   "display_name": "Python 3 (ipykernel)",
   "language": "python",
   "name": "python3"
  },
  "language_info": {
   "codemirror_mode": {
    "name": "ipython",
    "version": 3
   },
   "file_extension": ".py",
   "mimetype": "text/x-python",
   "name": "python",
   "nbconvert_exporter": "python",
   "pygments_lexer": "ipython3",
   "version": "3.8.20"
  }
 },
 "nbformat": 4,
 "nbformat_minor": 5
}
