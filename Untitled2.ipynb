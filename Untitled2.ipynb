{
 "cells": [
  {
   "cell_type": "code",
   "execution_count": 12,
   "id": "91a89efd-5035-4efe-a635-e0116ff8b55b",
   "metadata": {},
   "outputs": [
    {
     "name": "stdout",
     "output_type": "stream",
     "text": [
      "页面标题: 菜鸟教程 - 学的不仅是技术，更是梦想！\n",
      "当前 URL: https://www.runoob.com/\n"
     ]
    }
   ],
   "source": [
    "# 导入所需模块\n",
    "from selenium import webdriver\n",
    "from selenium.webdriver.chrome.service import Service as ChromeService\n",
    "\n",
    "# 设置正确的驱动路径\n",
    "service = ChromeService()\n",
    "# 配置浏览器选项\n",
    "options = webdriver.ChromeOptions()\n",
    "driver = webdriver.Chrome(service=service, options=options)\n",
    "\n",
    "# 打开网页\n",
    "driver.get(\"https://www.runoob.com\")\n",
    "\n",
    "# 最大化窗口\n",
    "driver.maximize_window()\n",
    "\n",
    "# 获取页面标题和 URL\n",
    "print(\"页面标题:\", driver.title)\n",
    "print(\"当前 URL:\", driver.current_url)\n",
    "\n",
    "# 导航到另一个页面\n",
    "driver.get(\"https://www.jyshare.com\")\n",
    "\n",
    "# 返回上一个页面\n",
    "driver.back()\n",
    "\n",
    "# 刷新页面\n",
    "driver.refresh()\n",
    "\n",
    "# 关闭浏览器\n",
    "driver.quit()\n",
    "\n"
   ]
  },
  {
   "cell_type": "code",
   "execution_count": null,
   "id": "4acdb32d-f417-487f-9cab-c4afe40f9cb2",
   "metadata": {},
   "outputs": [],
   "source": []
  },
  {
   "cell_type": "code",
   "execution_count": null,
   "id": "adb7ae1e-380f-4572-af87-890f0723ce9a",
   "metadata": {},
   "outputs": [],
   "source": []
  }
 ],
 "metadata": {
  "kernelspec": {
   "display_name": "Python 3 (ipykernel)",
   "language": "python",
   "name": "python3"
  },
  "language_info": {
   "codemirror_mode": {
    "name": "ipython",
    "version": 3
   },
   "file_extension": ".py",
   "mimetype": "text/x-python",
   "name": "python",
   "nbconvert_exporter": "python",
   "pygments_lexer": "ipython3",
   "version": "3.8.20"
  }
 },
 "nbformat": 4,
 "nbformat_minor": 5
}
